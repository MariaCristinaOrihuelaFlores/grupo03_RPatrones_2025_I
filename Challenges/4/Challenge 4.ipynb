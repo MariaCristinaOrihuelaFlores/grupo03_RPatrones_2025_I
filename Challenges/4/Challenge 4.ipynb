{
 "cells": [
  {
   "cell_type": "code",
   "execution_count": 13,
   "id": "39f18ca9-1076-4ead-9d93-de3b6ec5bf7c",
   "metadata": {
    "jp-MarkdownHeadingCollapsed": true
   },
   "outputs": [],
   "source": [
    "import torch\n",
    "import numpy as np\n",
    "import pandas as pd\n",
    "import matplotlib.pyplot as plt\n",
    "import seaborn as sns\n",
    "from lazypredict.Supervised import LazyClassifier, LazyRegressor\n",
    "from torchvision import datasets, transforms\n",
    "import time\n",
    "\n",
    "from sklearn.model_selection import train_test_split\n",
    "from sklearn.metrics import accuracy_score\n",
    "from sklearn.base import clone\n",
    "from sklearn.linear_model import LogisticRegression\n",
    "from sklearn.ensemble import RandomForestClassifier\n",
    "from sklearn.neighbors import KNeighborsClassifier\n",
    "from sklearn.svm import SVC\n",
    "\n",
    "from tqdm.notebook import tqdm "
   ]
  },
  {
   "cell_type": "code",
   "execution_count": 2,
   "id": "ce87c050-ac30-4cf7-ada3-6be08aa3606d",
   "metadata": {},
   "outputs": [],
   "source": [
    "import joblib"
   ]
  },
  {
   "cell_type": "code",
   "execution_count": 14,
   "id": "434547eb-6adb-4363-83d1-7d7c8f2f774d",
   "metadata": {},
   "outputs": [],
   "source": [
    "transform = transforms.Compose([transforms.ToTensor()])\n",
    "mnist_train = datasets.MNIST(root='./data',train=True,download=True,transform=transform)\n",
    "mnist_test = datasets.MNIST(root='./data',train=False,download=True,transform=transform)\n",
    "X_train = mnist_train.data.numpy().reshape(-1, 28*28) / 255.0 \n",
    "Y_train = mnist_train.targets.numpy()\n",
    "\n",
    "X_test = mnist_test.data.numpy().reshape(-1, 28*28) / 255.0\n",
    "Y_test = mnist_test.targets.numpy()"
   ]
  },
  {
   "cell_type": "markdown",
   "id": "fe0aa1fd-37f8-4e5d-bf17-65e7e6a9804a",
   "metadata": {},
   "source": [
    "## 1. Variamos criterios"
   ]
  },
  {
   "cell_type": "code",
   "execution_count": 5,
   "id": "e1e1fd7f-fb43-4858-ad85-3e8357b6e9a9",
   "metadata": {},
   "outputs": [
    {
     "name": "stdout",
     "output_type": "stream",
     "text": [
      "Criterio 'gini' | Accuracy: 0.9704\n",
      "Criterio 'entropy' | Accuracy: 0.9686\n",
      "Criterio 'log_loss' | Accuracy: 0.9686\n"
     ]
    }
   ],
   "source": [
    "def evaluar_criterios(X_train, Y_train, X_test, Y_test):\n",
    "    criterios = ['gini', 'entropy', 'log_loss']\n",
    "    for criterio in criterios:\n",
    "        rf = RandomForestClassifier(criterion=criterio, random_state=42)\n",
    "        rf.fit(X_train, Y_train)\n",
    "        Y_pred = rf.predict(X_test)\n",
    "        accuracy = accuracy_score(Y_test, Y_pred)\n",
    "        print(f\"Criterio '{criterio}' | Accuracy: {acc:.4f}\")\n",
    "\n",
    "evaluar_criterios(X_train, Y_train, X_test, Y_test)"
   ]
  },
  {
   "cell_type": "markdown",
   "id": "614fe9a5-92c2-4e8c-bb10-afab40c7ae26",
   "metadata": {},
   "source": [
    "## 2. Variamos numero de estimadores"
   ]
  },
  {
   "cell_type": "code",
   "execution_count": 10,
   "id": "4acd73ae-d4fb-4b66-9c21-23f336a51627",
   "metadata": {},
   "outputs": [
    {
     "name": "stdout",
     "output_type": "stream",
     "text": [
      "n_estimators=10 | Accuracy: 0.9492\n",
      "n_estimators=50 | Accuracy: 0.9668\n"
     ]
    }
   ],
   "source": [
    "def evaluar_estimators(X_train, Y_train, X_test, Y_test):\n",
    "    estimators = [10, 50]\n",
    "    for n in estimators:\n",
    "        rf = RandomForestClassifier(criterion='gini', n_estimators=n, random_state=42)\n",
    "        rf.fit(X_train, Y_train)\n",
    "        Y_pred = rf.predict(X_test)\n",
    "        acc = accuracy_score(Y_test, Y_pred)\n",
    "        print(f\"n_estimators={n} | Accuracy: {acc:.4f}\")\n",
    "        \n",
    "evaluar_estimators(X_train, Y_train, X_test, Y_test)"
   ]
  },
  {
   "cell_type": "code",
   "execution_count": 15,
   "id": "613ef52d-5779-4b74-9e59-7579d1885274",
   "metadata": {},
   "outputs": [
    {
     "name": "stdout",
     "output_type": "stream",
     "text": [
      "n_estimators=100 | Accuracy: 0.9704\n",
      "n_estimators=200 | Accuracy: 0.9707\n",
      "n_estimators=500 | Accuracy: 0.9712\n"
     ]
    }
   ],
   "source": [
    "def evaluar_estimators(X_train, Y_train, X_test, Y_test):\n",
    "    estimators = [100,200,500]\n",
    "    for n in estimators:\n",
    "        rf = RandomForestClassifier(criterion='gini', n_estimators=n, random_state=42)\n",
    "        rf.fit(X_train, Y_train)\n",
    "        Y_pred = rf.predict(X_test)\n",
    "        acc = accuracy_score(Y_test, Y_pred)\n",
    "        print(f\"n_estimators={n} | Accuracy: {acc:.4f}\")\n",
    "        \n",
    "evaluar_estimators(X_train, Y_train, X_test, Y_test)"
   ]
  },
  {
   "cell_type": "code",
   "execution_count": 16,
   "id": "2af16790-7260-48bd-8f02-b3cb44c6c0b6",
   "metadata": {},
   "outputs": [
    {
     "name": "stdout",
     "output_type": "stream",
     "text": [
      "n_estimators=750 | Accuracy: 0.9718\n",
      "n_estimators=1000 | Accuracy: 0.9725\n"
     ]
    }
   ],
   "source": [
    "def evaluar_estimators(X_train, Y_train, X_test, Y_test):\n",
    "    estimators = [750, 1000]\n",
    "    for n in estimators:\n",
    "        rf = RandomForestClassifier(criterion='gini', n_estimators=n, random_state=42)\n",
    "        rf.fit(X_train, Y_train)\n",
    "        Y_pred = rf.predict(X_test)\n",
    "        acc = accuracy_score(Y_test, Y_pred)\n",
    "        print(f\"n_estimators={n} | Accuracy: {acc:.4f}\")\n",
    "        \n",
    "evaluar_estimators(X_train, Y_train, X_test, Y_test)"
   ]
  },
  {
   "cell_type": "markdown",
   "id": "5d3c4b32-f2ce-49ef-8f94-ca09a5450c43",
   "metadata": {},
   "source": [
    "## 3. Variamos profundidad maxima"
   ]
  },
  {
   "cell_type": "code",
   "execution_count": 20,
   "id": "f7d5d59a-9b20-4196-80b0-4a2ca992fd00",
   "metadata": {},
   "outputs": [
    {
     "name": "stdout",
     "output_type": "stream",
     "text": [
      "n_estimators=5 | Accuracy: 0.8673\n",
      "n_estimators=10 | Accuracy: 0.9521\n",
      "n_estimators=15 | Accuracy: 0.9682\n",
      "n_estimators=20 | Accuracy: 0.9707\n",
      "n_estimators=30 | Accuracy: 0.9714\n",
      "n_estimators=None | Accuracy: 0.9712\n"
     ]
    }
   ],
   "source": [
    "def evaluar_profundidad_max(X_train, Y_train, X_test, Y_test):\n",
    "    depthMax = [5,10,15,20,30,None]\n",
    "    for n in depthMax:\n",
    "        rf = RandomForestClassifier(criterion='gini', n_estimators=500, max_depth=n, random_state=42)\n",
    "        rf.fit(X_train, Y_train)\n",
    "        Y_pred = rf.predict(X_test)\n",
    "        acc = accuracy_score(Y_test, Y_pred)\n",
    "        print(f\"n_estimators={n} | Accuracy: {acc:.4f}\")\n",
    "        \n",
    "evaluar_profundidad_max(X_train, Y_train, X_test, Y_test)"
   ]
  }
 ],
 "metadata": {
  "kernelspec": {
   "display_name": "Python (RDP)",
   "language": "python",
   "name": "rdp"
  },
  "language_info": {
   "codemirror_mode": {
    "name": "ipython",
    "version": 3
   },
   "file_extension": ".py",
   "mimetype": "text/x-python",
   "name": "python",
   "nbconvert_exporter": "python",
   "pygments_lexer": "ipython3",
   "version": "3.10.13"
  }
 },
 "nbformat": 4,
 "nbformat_minor": 5
}
