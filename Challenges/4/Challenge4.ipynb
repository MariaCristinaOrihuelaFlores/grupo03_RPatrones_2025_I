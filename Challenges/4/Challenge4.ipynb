{
 "cells": [
  {
   "cell_type": "markdown",
   "metadata": {},
   "source": [
    "Un Random Forest (Bosque Aleatorio) es un conjunto de árboles de decisión que trabajan juntos para hacer predicciones.\n",
    "\n",
    "# Entendiendo la intuición detrás del algoritmo Random Forest\n",
    "\n",
    "El algoritmo Random Forest es una técnica poderosa de aprendizaje basada en árboles en Machine Learning que se utiliza para hacer predicciones, y luego se realiza una votación entre todos los árboles para determinar la predicción final. Son ampliamente utilizados en tareas de clasificación y regresión [1].\n",
    "\n",
    "#### Ejemplo práctico:\n",
    "\n",
    "Imagina que pides consejo a un grupo de amigos sobre a dónde ir de vacaciones. Cada amigo te da su recomendación basada en su perspectiva y preferencias únicas (es decir, cada árbol de decisión entrenado en diferentes subconjuntos de datos). Luego, tomas tu decisión final considerando la opinión de la mayoría o promediando sus sugerencias (predicción en conjunto).\n",
    "\n",
    "![image](https://github.com/user-attachments/assets/4758d448-10d9-4257-a676-d37b509c38d5)\n",
    "\n",
    "En la imagen podemos ver que: el proceso comienza con un conjunto de datos que contiene filas y sus correspondientes etiquetas de clase (columnas).\n",
    "\n",
    "### ¿Cómo funciona el algoritmo de Random Forest?\n",
    "\n",
    "El algoritmo de Random Forest funciona en varios pasos:\n",
    "\n",
    "Paso 1) Random Forest construye múltiples árboles de decisión utilizando muestras aleatorias de los datos. Cada árbol se entrena con un subconjunto diferente de los datos, lo que hace que cada árbol sea único.\n",
    "\n",
    "Paso 2) Al crear cada árbol, el algoritmo selecciona aleatoriamente un subconjunto de características o variables para dividir los datos, en lugar de usar todas las características disponibles al mismo tiempo. Esto añade diversidad a los árboles.\n",
    "\n",
    "Paso 3) Cada árbol de decisión en el bosque realiza una predicción basada en los datos con los que fue entrenado. Al hacer la predicción final, Random Forest combina los resultados de todos los árboles.\n",
    "\n",
    "Paso 4) Para tareas de clasificación, la predicción final se decide mediante votación por mayoría. Esto significa que la categoría predicha por la mayoría de los árboles será la predicción final.\n",
    "\n",
    "Paso 5) Para tareas de regresión, la predicción final es el promedio de las predicciones de todos los árboles.\n",
    "\n",
    "Paso 6) La aleatoriedad en la selección de muestras de datos y características ayuda a prevenir el sobreajuste (overfitting), haciendo que las predicciones sean más precisas y confiables.\n",
    "\n",
    "Otro punto clave que nos ayudará a entender bien, como funciona el Random Forest son los supuestos, las ventajas y limitaciones del modelo [1].\n",
    "\n",
    "## Supuestos del Random Forest\n",
    "\n",
    "- Cada árbol toma sus propias decisiones: Cada árbol en el bosque hace sus propias predicciones de manera independiente, sin depender de los demás.\n",
    "- Se usan partes aleatorias de los datos: Cada árbol se construye utilizando muestras y características aleatorias para reducir errores.\n",
    "- Se necesita suficiente cantidad de datos: Tener suficientes datos asegura que los árboles sean diferentes entre sí y aprendan patrones variados.\n",
    "- Predicciones diferentes mejoran la precisión: Combinar las predicciones de distintos árboles lleva a obtener un resultado final más preciso [1].\n",
    "\n",
    "## Ventajas del Random Forest\n",
    "\n",
    "- Random Forest proporciona predicciones muy precisas incluso con conjuntos de datos grandes.\n",
    "- Puede manejar bien los datos faltantes sin comprometer la precisión.\n",
    "- No requiere normalización ni estandarización del conjunto de datos.\n",
    "- Al combinar múltiples árboles de decisión, se reduce el riesgo de sobreajuste del modelo [1].\n",
    "\n",
    "## Limitaciones del Random Forest\n",
    "\n",
    "- Puede ser computacionalmente costoso, especialmente cuando se utilizan muchos árboles.\n",
    "- Es más difícil de interpretar en comparación con modelos más simples como los árboles de decisión [1].\n",
    "\n",
    "## Discusión\n",
    "\n",
    "Random Forest es básicamente un conjunto de árboles de decisión que trabajan juntos para hacer una predicción más robusta. Cada árbol se entrena con una parte diferente de los datos y, al final, la decisión final se toma como un \"voto\" entre todos los árboles. Esto ayuda mucho a evitar el sobreajuste y a mejorar la precisión, como vimos en clase y en la teoría [1].\n",
    "\n",
    "Ahora, viendo los resultados de nuestro experimento:\n",
    "\n",
    "Cuando variamos el criterio de pureza, gini dio el mejor accuracy (0.9704) comparado con entropy y log_loss. Esto tiene sentido porque gini suele ser más rápido de calcular y es más eficiente en conjuntos de datos grandes como MNIST.\n",
    "\n",
    "Sobre el número de estimadores, notamos que conforme aumentábamos la cantidad de árboles, el accuracy también subía. Por ejemplo, con 10 árboles apenas llegamos a 0.9492, pero con 1000 árboles subimos hasta 0.9725. Sin embargo, también vimos que el tiempo de entrenamiento creció bastante.\n",
    "Por eso, 500 árboles nos pareció el mejor punto de equilibrio: el accuracy era alto (0.9712) y el costo computacional no era tan exagerado. A partir de 500, el aumento en accuracy ya era muy pequeño, pero el tiempo de entrenamiento sí que aumentaba un montón.\n",
    "\n",
    "En cuanto a la profundidad máxima de los árboles, al usar una profundidad baja como 5, el accuracy cayó bastante (0.8673). A medida que aumentábamos la profundidad, el accuracy subía, llegando a 0.9714 con profundidad 30. Curiosamente, vimos que profundidad 30 dio mejor resultado que dejar los árboles sin límite de profundidad (None), donde el accuracy fue 0.9712. Esto sugiere que en este caso, poner un límite de profundidad ayuda a mejorar el rendimiento y a evitar overfitting.\n",
    "\n",
    "Finalmente, comparado con otros modelos como SVM, notamos que Random Forest entrenó mucho más rápido. Con SVM, los entrenamientos eran bastante pesados para este tamaño de dataset (MNIST), mientras que Random Forest, aunque tarda más a medida que suben los árboles, sigue siendo mucho más ágil en general.\n",
    "\n",
    "## Referencias\n",
    "\n",
    "[1] geeksforgeeks. “Random Forest Algorithm in Machine Learning - GeeksforGeeks”. GeeksforGeeks. Accedido el 28 de abril de 2025. [En línea]. Disponible: https://www.geeksforgeeks.org/random-forest-algorithm-in-machine-learning/?utm_source=chatgpt.com\n"
   ]
  },
  {
   "cell_type": "code",
   "execution_count": 13,
   "id": "39f18ca9-1076-4ead-9d93-de3b6ec5bf7c",
   "metadata": {
    "jp-MarkdownHeadingCollapsed": true
   },
   "outputs": [],
   "source": [
    "import torch\n",
    "import numpy as np\n",
    "import pandas as pd\n",
    "import matplotlib.pyplot as plt\n",
    "import seaborn as sns\n",
    "from lazypredict.Supervised import LazyClassifier, LazyRegressor\n",
    "from torchvision import datasets, transforms\n",
    "import time\n",
    "\n",
    "from sklearn.model_selection import train_test_split\n",
    "from sklearn.metrics import accuracy_score\n",
    "from sklearn.base import clone\n",
    "from sklearn.linear_model import LogisticRegression\n",
    "from sklearn.ensemble import RandomForestClassifier\n",
    "from sklearn.neighbors import KNeighborsClassifier\n",
    "from sklearn.svm import SVC\n",
    "\n",
    "from tqdm.notebook import tqdm "
   ]
  },
  {
   "cell_type": "code",
   "execution_count": 2,
   "id": "ce87c050-ac30-4cf7-ada3-6be08aa3606d",
   "metadata": {},
   "outputs": [],
   "source": [
    "import joblib"
   ]
  },
  {
   "cell_type": "code",
   "execution_count": 14,
   "id": "434547eb-6adb-4363-83d1-7d7c8f2f774d",
   "metadata": {},
   "outputs": [],
   "source": [
    "transform = transforms.Compose([transforms.ToTensor()])\n",
    "mnist_train = datasets.MNIST(root='./data',train=True,download=True,transform=transform)\n",
    "mnist_test = datasets.MNIST(root='./data',train=False,download=True,transform=transform)\n",
    "X_train = mnist_train.data.numpy().reshape(-1, 28*28) / 255.0 \n",
    "Y_train = mnist_train.targets.numpy()\n",
    "\n",
    "X_test = mnist_test.data.numpy().reshape(-1, 28*28) / 255.0\n",
    "Y_test = mnist_test.targets.numpy()"
   ]
  },
  {
   "cell_type": "markdown",
   "id": "fe0aa1fd-37f8-4e5d-bf17-65e7e6a9804a",
   "metadata": {},
   "source": [
    "## 1. Variamos criterios"
   ]
  }
 ],
 "metadata": {
  "kernelspec": {
   "display_name": "Python 3",
   "language": "python",
   "name": "python3"
  },
  "language_info": {
   "name": "python",
   "version": "3.9"
  }
 },
 "nbformat": 4,
 "nbformat_minor": 5
}

