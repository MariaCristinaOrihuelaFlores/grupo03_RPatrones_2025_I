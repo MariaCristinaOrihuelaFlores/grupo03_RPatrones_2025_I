{
 "cells": [
  {
   "cell_type": "markdown",
   "id": "a6418e68",
   "metadata": {},
   "source": [
    "## Clasificación"
   ]
  },
  {
   "cell_type": "code",
   "execution_count": 58,
   "id": "83737195",
   "metadata": {},
   "outputs": [],
   "source": [
    "# Librerias\n",
    "import time\n",
    "import pandas as pd\n",
    "import numpy as np\n",
    "import torch\n",
    "from torch import nn\n",
    "import matplotlib.pyplot as plt\n",
    "import seaborn as sns\n",
    "from sklearn.model_selection import train_test_split\n",
    "from sklearn.preprocessing import StandardScaler\n",
    "from sklearn.utils.class_weight import compute_class_weight\n",
    "from sklearn.metrics import (\n",
    "    accuracy_score,\n",
    "    f1_score,\n",
    "    precision_score,\n",
    "    recall_score,\n",
    "    classification_report,\n",
    "    confusion_matrix\n",
    ")\n",
    "import wandb"
   ]
  },
  {
   "cell_type": "code",
   "execution_count": 13,
   "id": "fe2ffc9d",
   "metadata": {},
   "outputs": [
    {
     "name": "stderr",
     "output_type": "stream",
     "text": [
      "\u001b[34m\u001b[1mwandb\u001b[0m: Using wandb-core as the SDK backend.  Please refer to https://wandb.me/wandb-core for more information.\n",
      "\u001b[34m\u001b[1mwandb\u001b[0m: Currently logged in as: \u001b[33mzerocris\u001b[0m (\u001b[33mzerocris13\u001b[0m) to \u001b[32mhttps://api.wandb.ai\u001b[0m. Use \u001b[1m`wandb login --relogin`\u001b[0m to force relogin\n"
     ]
    },
    {
     "data": {
      "text/plain": [
       "True"
      ]
     },
     "execution_count": 13,
     "metadata": {},
     "output_type": "execute_result"
    }
   ],
   "source": [
    "wandb.login()"
   ]
  },
  {
   "cell_type": "code",
   "execution_count": 14,
   "id": "f8c233a4",
   "metadata": {},
   "outputs": [
    {
     "name": "stdout",
     "output_type": "stream",
     "text": [
      "              nHM      piPC09         PCD        X2Av       MLOGP        ON1V  \\\n",
      "count  779.000000  779.000000  779.000000  779.000000  779.000000  779.000000   \n",
      "mean     1.754814    3.467616    1.550822    0.236881    3.201746    1.510295   \n",
      "std      1.985866    2.983778    0.958708    0.149319    1.595702    0.834753   \n",
      "min      0.000000    0.000000    0.000000    0.090000   -1.960000    0.080000   \n",
      "25%      0.000000    0.000000    1.210000    0.170000    2.190000    0.910000   \n",
      "50%      1.000000    4.263000    1.400000    0.200000    3.130000    1.270000   \n",
      "75%      3.000000    6.250000    2.285000    0.240000    4.235000    2.020000   \n",
      "max     12.000000    9.316000    5.900000    2.230000    8.320000    7.190000   \n",
      "\n",
      "            N-072    B02[C-N]    F04[C-O]       Class      logBCF  \n",
      "count  779.000000  779.000000  779.000000  779.000000  779.000000  \n",
      "mean     0.186136    0.423620    3.585366    1.736842    2.062773  \n",
      "std      0.501937    0.494449    4.430421    0.921782    1.351290  \n",
      "min      0.000000    0.000000    0.000000    1.000000   -1.700000  \n",
      "25%      0.000000    0.000000    0.000000    1.000000    0.985000  \n",
      "50%      0.000000    0.000000    2.000000    1.000000    2.030000  \n",
      "75%      0.000000    1.000000    6.000000    3.000000    2.950000  \n",
      "max      3.000000    1.000000   25.000000    3.000000    6.060000  \n"
     ]
    }
   ],
   "source": [
    "# Dataset\n",
    "df = pd.read_csv(\"Grisoni_et_al_2016_EnvInt88.csv\") \n",
    "print(df.describe())"
   ]
  },
  {
   "cell_type": "code",
   "execution_count": 15,
   "id": "8d5374f4",
   "metadata": {},
   "outputs": [],
   "source": [
    "df[\"Class\"] = df[\"Class\"].astype(int) - 1  # convertir a 0,1,2"
   ]
  },
  {
   "cell_type": "code",
   "execution_count": 16,
   "id": "826778e2",
   "metadata": {},
   "outputs": [
    {
     "data": {
      "image/png": "[encoded data removed]",
      "text/plain": [
       "<Figure size 600x400 with 1 Axes>"
      ]
     },
     "metadata": {},
     "output_type": "display_data"
    }
   ],
   "source": [
    "# Target\n",
    "plt.figure(figsize=(6, 4))\n",
    "sns.histplot(df[\"Class\"], kde=True, bins=30, color=\"skyblue\")\n",
    "plt.title(\"Distribución de Clases\")\n",
    "plt.xlabel(\"Clases\")\n",
    "plt.tight_layout()\n",
    "plt.show()"
   ]
  },
  {
   "cell_type": "markdown",
   "id": "33eb7f12",
   "metadata": {},
   "source": [
    "Notar el desbalance de clase"
   ]
  },
  {
   "cell_type": "code",
   "execution_count": 112,
   "id": "4c497b8f",
   "metadata": {},
   "outputs": [],
   "source": [
    "X = df.drop(columns=[\"CAS\", \"SMILES\", \"Set\", \"logBCF\", \"Class\"])\n",
    "y = df[\"Class\"].values\n",
    "\n",
    "scaler = StandardScaler()\n",
    "X_scaled = scaler.fit_transform(X)\n",
    "\n",
    "X_trainval = X_scaled[df[\"Set\"] == \"Train\"]\n",
    "y_trainval = y[df[\"Set\"] == \"Train\"]\n",
    "X_test = X_scaled[df[\"Set\"] == \"Test\"]\n",
    "y_test = y[df[\"Set\"] == \"Test\"]\n",
    "\n",
    "X_train, X_val, y_train, y_val = train_test_split(\n",
    "    X_trainval, y_trainval, test_size=0.2, random_state=13, stratify=y_trainval\n",
    ")\n",
    "\n",
    "# Tensores\n",
    "X_train_tensor = torch.tensor(X_train, dtype=torch.float32)\n",
    "y_train_tensor = torch.tensor(y_train, dtype=torch.long)\n",
    "X_val_tensor = torch.tensor(X_val, dtype=torch.float32)\n",
    "y_val_tensor = torch.tensor(y_val, dtype=torch.long)\n",
    "X_test_tensor = torch.tensor(X_test, dtype=torch.float32)\n",
    "y_test_tensor = torch.tensor(y_test, dtype=torch.long)"
   ]
  },
  {
   "cell_type": "code",
   "execution_count": 158,
   "id": "e63528a8",
   "metadata": {},
   "outputs": [],
   "source": [
    "class Net(nn.Module):\n",
    "    def __init__(self, input_dim):\n",
    "        super().__init__()\n",
    "        self.net = nn.Sequential(\n",
    "            nn.Linear(input_dim, 128),\n",
    "            nn.BatchNorm1d(128),\n",
    "            nn.LeakyReLU(negative_slope=0.01),\n",
    "            nn.Dropout(0.5),\n",
    "            nn.Linear(128, 64),\n",
    "            nn.BatchNorm1d(64),\n",
    "            nn.LeakyReLU(negative_slope=0.01),\n",
    "            nn.Dropout(0.2),\n",
    "            nn.Linear(64, 3)\n",
    "        )\n",
    "\n",
    "    def forward(self, x):\n",
    "        return self.net(x)\n",
    "\n",
    "model = Net(input_dim=X_train.shape[1])"
   ]
  },
  {
   "cell_type": "code",
   "execution_count": 159,
   "id": "d98e6f3c",
   "metadata": {},
   "outputs": [],
   "source": [
    "class FocalLoss(nn.Module):\n",
    "    def __init__(self, alpha=None, gamma=20):\n",
    "        super(FocalLoss, self).__init__()\n",
    "        self.alpha = alpha\n",
    "        self.gamma = gamma\n",
    "        self.ce = nn.CrossEntropyLoss(reduction='none')\n",
    "\n",
    "    def forward(self, inputs, targets):\n",
    "        ce_loss = self.ce(inputs, targets)\n",
    "        pt = torch.exp(-ce_loss)\n",
    "        if self.alpha is not None:\n",
    "            alpha_factor = self.alpha.gather(0, targets)\n",
    "            loss = alpha_factor * (1 - pt) ** self.gamma * ce_loss\n",
    "        else:\n",
    "            loss = (1 - pt) ** self.gamma * ce_loss\n",
    "        return loss.mean()\n"
   ]
  },
  {
   "cell_type": "code",
   "execution_count": 160,
   "id": "62f1c631",
   "metadata": {},
   "outputs": [],
   "source": [
    "import torch.nn.functional as F\n",
    "\n",
    "class FocalLossWithLabelSmoothing(nn.Module):\n",
    "    def __init__(self, alpha=None, gamma=2, smoothing=0.1, n_classes=3):\n",
    "        super().__init__()\n",
    "        self.alpha = alpha\n",
    "        self.gamma = gamma\n",
    "        self.smoothing = smoothing\n",
    "        self.n_classes = n_classes\n",
    "\n",
    "    def smooth_labels(self, target):\n",
    "        with torch.no_grad():\n",
    "            true_dist = torch.zeros(size=(target.size(0), self.n_classes), device=target.device)\n",
    "            true_dist.fill_(self.smoothing / (self.n_classes))\n",
    "            true_dist.scatter_(1, target.unsqueeze(1), 1 - self.smoothing)\n",
    "        return true_dist\n",
    "\n",
    "    def forward(self, logits, target):\n",
    "        prob = F.softmax(logits, dim=1)\n",
    "        log_prob = F.log_softmax(logits, dim=1)\n",
    "        smoothed_target = self.smooth_labels(target)\n",
    "\n",
    "        # focal term\n",
    "        focal_term = (1 - prob) ** self.gamma\n",
    "\n",
    "        if self.alpha is not None:\n",
    "            alpha = self.alpha.to(logits.device)\n",
    "            focal_term = alpha.unsqueeze(0) * focal_term  # broadcast α\n",
    "\n",
    "        loss = -smoothed_target * focal_term * log_prob\n",
    "        return loss.sum(dim=1).mean()\n"
   ]
  },
  {
   "cell_type": "code",
   "execution_count": 161,
   "id": "ebc90eb2",
   "metadata": {},
   "outputs": [],
   "source": [
    "from collections import Counter\n",
    "\n",
    "cnt = Counter(y_train)\n",
    "alpha = torch.tensor([1 / cnt[c] for c in sorted(cnt)], dtype=torch.float32)\n",
    "\n",
    "criterion = FocalLossWithLabelSmoothing(\n",
    "    alpha=alpha,\n",
    "    gamma=2,\n",
    "    smoothing=0.1,\n",
    "    n_classes=3\n",
    ")\n",
    "\n"
   ]
  },
  {
   "cell_type": "code",
   "execution_count": 162,
   "id": "bab623c5",
   "metadata": {},
   "outputs": [
    {
     "data": {
      "text/html": [
       "Tracking run with wandb version 0.19.9"
      ],
      "text/plain": [
       "<IPython.core.display.HTML object>"
      ]
     },
     "metadata": {},
     "output_type": "display_data"
    },
    {
     "data": {
      "text/html": [
       "Run data is saved locally in <code>d:\\1. Ingeniería Biomédica\\12 CICLO\\Reconocimiento de Patrones\\Challenges\\6\\wandb\\run-20250601_204257-g3m6821k</code>"
      ],
      "text/plain": [
       "<IPython.core.display.HTML object>"
      ]
     },
     "metadata": {},
     "output_type": "display_data"
    },
    {
     "data": {
      "text/html": [
       "Syncing run <strong><a href='https://wandb.ai/zerocris13/ch6_classification/runs/g3m6821k' target=\"_blank\">toasty-lake-39</a></strong> to <a href='https://wandb.ai/zerocris13/ch6_classification' target=\"_blank\">Weights & Biases</a> (<a href='https://wandb.me/developer-guide' target=\"_blank\">docs</a>)<br>"
      ],
      "text/plain": [
       "<IPython.core.display.HTML object>"
      ]
     },
     "metadata": {},
     "output_type": "display_data"
    },
    {
     "data": {
      "text/html": [
       " View project at <a href='https://wandb.ai/zerocris13/ch6_classification' target=\"_blank\">https://wandb.ai/zerocris13/ch6_classification</a>"
      ],
      "text/plain": [
       "<IPython.core.display.HTML object>"
      ]
     },
     "metadata": {},
     "output_type": "display_data"
    },
    {
     "data": {
      "text/html": [
       " View run at <a href='https://wandb.ai/zerocris13/ch6_classification/runs/g3m6821k' target=\"_blank\">https://wandb.ai/zerocris13/ch6_classification/runs/g3m6821k</a>"
      ],
      "text/plain": [
       "<IPython.core.display.HTML object>"
      ]
     },
     "metadata": {},
     "output_type": "display_data"
    },
    {
     "name": "stdout",
     "output_type": "stream",
     "text": [
      "Epoch 1, Train Loss: 0.0074, Val Loss: 0.0137\n",
      "Epoch 2, Train Loss: 0.0069, Val Loss: 0.0118\n",
      "Epoch 3, Train Loss: 0.0072, Val Loss: 0.0103\n",
      "Epoch 4, Train Loss: 0.0060, Val Loss: 0.0092\n",
      "Epoch 5, Train Loss: 0.0073, Val Loss: 0.0082\n",
      "Epoch 6, Train Loss: 0.0060, Val Loss: 0.0074\n",
      "Epoch 7, Train Loss: 0.0059, Val Loss: 0.0068\n",
      "Epoch 8, Train Loss: 0.0057, Val Loss: 0.0063\n",
      "Epoch 9, Train Loss: 0.0056, Val Loss: 0.0059\n",
      "Epoch 10, Train Loss: 0.0052, Val Loss: 0.0055\n",
      "Epoch 11, Train Loss: 0.0053, Val Loss: 0.0052\n",
      "Epoch 12, Train Loss: 0.0053, Val Loss: 0.0049\n",
      "Epoch 13, Train Loss: 0.0052, Val Loss: 0.0047\n",
      "Epoch 14, Train Loss: 0.0050, Val Loss: 0.0044\n",
      "Epoch 15, Train Loss: 0.0051, Val Loss: 0.0043\n",
      "Epoch 16, Train Loss: 0.0049, Val Loss: 0.0041\n",
      "Epoch 17, Train Loss: 0.0048, Val Loss: 0.0040\n",
      "Epoch 18, Train Loss: 0.0047, Val Loss: 0.0039\n",
      "Epoch 19, Train Loss: 0.0044, Val Loss: 0.0038\n",
      "Epoch 20, Train Loss: 0.0045, Val Loss: 0.0037\n",
      "Epoch 21, Train Loss: 0.0047, Val Loss: 0.0036\n",
      "Epoch 22, Train Loss: 0.0046, Val Loss: 0.0036\n",
      "Epoch 23, Train Loss: 0.0043, Val Loss: 0.0035\n",
      "Epoch 24, Train Loss: 0.0043, Val Loss: 0.0035\n",
      "Epoch 25, Train Loss: 0.0044, Val Loss: 0.0035\n",
      "Epoch 26, Train Loss: 0.0043, Val Loss: 0.0035\n",
      "Epoch 27, Train Loss: 0.0045, Val Loss: 0.0034\n",
      "Epoch 28, Train Loss: 0.0046, Val Loss: 0.0034\n",
      "Epoch 29, Train Loss: 0.0042, Val Loss: 0.0034\n",
      "Epoch 30, Train Loss: 0.0042, Val Loss: 0.0034\n",
      "Epoch 31, Train Loss: 0.0046, Val Loss: 0.0034\n",
      "Epoch 32, Train Loss: 0.0039, Val Loss: 0.0034\n",
      "Epoch 33, Train Loss: 0.0042, Val Loss: 0.0034\n",
      "Epoch 34, Train Loss: 0.0040, Val Loss: 0.0034\n",
      "Epoch 35, Train Loss: 0.0041, Val Loss: 0.0033\n",
      "Epoch 36, Train Loss: 0.0042, Val Loss: 0.0033\n",
      "Epoch 37, Train Loss: 0.0040, Val Loss: 0.0033\n",
      "Epoch 38, Train Loss: 0.0041, Val Loss: 0.0033\n",
      "Epoch 39, Train Loss: 0.0037, Val Loss: 0.0033\n",
      "Epoch 40, Train Loss: 0.0040, Val Loss: 0.0033\n",
      "Epoch 41, Train Loss: 0.0039, Val Loss: 0.0033\n",
      "Epoch 42, Train Loss: 0.0039, Val Loss: 0.0033\n",
      "Epoch 43, Train Loss: 0.0042, Val Loss: 0.0033\n",
      "Epoch 44, Train Loss: 0.0038, Val Loss: 0.0033\n",
      "Epoch 45, Train Loss: 0.0037, Val Loss: 0.0033\n",
      "Epoch 46, Train Loss: 0.0041, Val Loss: 0.0033\n",
      "Epoch 47, Train Loss: 0.0038, Val Loss: 0.0032\n",
      "Epoch 48, Train Loss: 0.0037, Val Loss: 0.0032\n",
      "Epoch 49, Train Loss: 0.0036, Val Loss: 0.0032\n",
      "Epoch 50, Train Loss: 0.0040, Val Loss: 0.0032\n",
      "Epoch 51, Train Loss: 0.0040, Val Loss: 0.0032\n",
      "Epoch 52, Train Loss: 0.0036, Val Loss: 0.0032\n",
      "Epoch 53, Train Loss: 0.0036, Val Loss: 0.0032\n",
      "Epoch 54, Train Loss: 0.0037, Val Loss: 0.0032\n",
      "Epoch 55, Train Loss: 0.0038, Val Loss: 0.0032\n",
      "Epoch 56, Train Loss: 0.0036, Val Loss: 0.0032\n",
      "Epoch 57, Train Loss: 0.0036, Val Loss: 0.0032\n",
      "Epoch 58, Train Loss: 0.0035, Val Loss: 0.0032\n",
      "Epoch 59, Train Loss: 0.0037, Val Loss: 0.0032\n",
      "Epoch 60, Train Loss: 0.0036, Val Loss: 0.0032\n"
     ]
    }
   ],
   "source": [
    "optimizer = torch.optim.Adam(model.parameters(), lr=0.001)\n",
    "\n",
    "epochs = 60\n",
    "patience = 300\n",
    "best_val_loss = float('inf')\n",
    "counter = 0\n",
    "start_time = time.time()\n",
    "\n",
    "def init_weights(m):\n",
    "    if isinstance(m, nn.Linear):\n",
    "        nn.init.kaiming_normal_(m.weight, nonlinearity='leaky_relu')  # o relu\n",
    "        if m.bias is not None:\n",
    "            nn.init.constant_(m.bias, 0)\n",
    "\n",
    "model.apply(init_weights)\n",
    "\n",
    "\n",
    "wandb.init(project=\"ch6_classification\", entity=\"zerocris13\")\n",
    "for epoch in range(epochs):\n",
    "    model.train()\n",
    "    optimizer.zero_grad()\n",
    "    y_pred = model(X_train_tensor)\n",
    "    loss = criterion(y_pred, y_train_tensor)\n",
    "    loss.backward()\n",
    "    optimizer.step()\n",
    "    for name, param in model.named_parameters():\n",
    "        if param.requires_grad and param.grad is not None:\n",
    "            wandb.log({f\"gradients/{name}\": param.grad.norm().item()})\n",
    "\n",
    "    model.eval()\n",
    "    with torch.no_grad():\n",
    "        y_val_pred = model(X_val_tensor)\n",
    "        val_loss = criterion(y_val_pred, y_val_tensor)\n",
    "    \n",
    "    wandb.log({\n",
    "        \"epoch\": epoch + 1,\n",
    "        \"train_loss\": loss.item(),\n",
    "        \"val_loss\": val_loss.item()\n",
    "    })    \n",
    "    print(f\"Epoch {epoch+1}, Train Loss: {loss.item():.4f}, Val Loss: {val_loss.item():.4f}\")\n",
    "\n",
    "    if val_loss.item() < best_val_loss:\n",
    "        best_val_loss = val_loss.item()\n",
    "        best_model_state = model.state_dict()\n",
    "        counter = 0\n",
    "    else:\n",
    "        counter += 1\n",
    "        if counter >= patience:\n",
    "            print(\"Early stopping\")\n",
    "            break\n",
    "\n",
    "elapsed = time.time() - start_time"
   ]
  },
  {
   "cell_type": "code",
   "execution_count": 163,
   "id": "d417a1b5",
   "metadata": {},
   "outputs": [
    {
     "name": "stdout",
     "output_type": "stream",
     "text": [
      "\n",
      "Classification Report:\n",
      "               precision    recall  f1-score   support\n",
      "\n",
      "           0     0.7308    0.4957    0.5907       115\n",
      "           1     0.1695    0.6250    0.2667        16\n",
      "           2     0.5000    0.4531    0.4754        64\n",
      "\n",
      "    accuracy                         0.4923       195\n",
      "   macro avg     0.4668    0.5246    0.4443       195\n",
      "weighted avg     0.6090    0.4923    0.5263       195\n",
      "\n"
     ]
    },
    {
     "data": {
      "image/png": "[encoded data removed]",
      "text/plain": [
       "<Figure size 600x500 with 2 Axes>"
      ]
     },
     "metadata": {},
     "output_type": "display_data"
    },
    {
     "name": "stderr",
     "output_type": "stream",
     "text": [
      "\u001b[34m\u001b[1mwandb\u001b[0m: \u001b[32m\u001b[41mERROR\u001b[0m The nbformat package was not found. It is required to save notebook history.\n"
     ]
    },
    {
     "data": {
      "text/html": [],
      "text/plain": [
       "<IPython.core.display.HTML object>"
      ]
     },
     "metadata": {},
     "output_type": "display_data"
    },
    {
     "data": {
      "text/html": [
       "<br>    <style><br>        .wandb-row {<br>            display: flex;<br>            flex-direction: row;<br>            flex-wrap: wrap;<br>            justify-content: flex-start;<br>            width: 100%;<br>        }<br>        .wandb-col {<br>            display: flex;<br>            flex-direction: column;<br>            flex-basis: 100%;<br>            flex: 1;<br>            padding: 10px;<br>        }<br>    </style><br><div class=\"wandb-row\"><div class=\"wandb-col\"><h3>Run history:</h3><br/><table class=\"wandb\"><tr><td>epoch</td><td>▁▁▁▂▂▂▂▃▃▃▃▃▃▃▄▄▄▄▄▄▅▅▅▅▅▆▆▆▆▆▆▇▇▇▇▇▇▇██</td></tr><tr><td>gradients/net.0.bias</td><td>▅▅▅▅▇█▅▃▃▄▅▃▃▂▂▂▃▂▂▂▂▂▂▃▂▂▁▂▂▁▂▂▁▂▂▁▂▂▁▁</td></tr><tr><td>gradients/net.0.weight</td><td>██▇█▆▄▅▅▆▅▃▄▃▂▃▂▂▃▂▂▂▂▁▂▁▂▂▂▁▂▁▁▂▂▁▁▂▁▁▁</td></tr><tr><td>gradients/net.1.bias</td><td>█▆▇▅▅▄▄▃▄▃▃▄▃▃▃▂▃▂▂▂▂▂▂▂▁▂▁▂▁▁▁▁▁▁▁▁▂▁▁▁</td></tr><tr><td>gradients/net.1.weight</td><td>█▇▆█▆▅▄▄▅▄▄▄▄▃▃▂▃▃▂▂▂▂▂▂▂▁▂▁▂▂▁▂▂▁▁▁▁▁▂▁</td></tr><tr><td>gradients/net.4.bias</td><td>█▇▅█▆▅▄▄▅▃▂▃▂▃▂▂▂▂▂▂▂▂▂▁▂▂▂▁▂▂▁▁▁▂▂▁▁▁▂▂</td></tr><tr><td>gradients/net.4.weight</td><td>█▇▇▇▆▅▄▄▄▄▄▄▄▄▃▃▃▂▃▂▂▂▂▂▃▃▂▂▂▂▂▁▂▁▁▂▁▂▁▁</td></tr><tr><td>gradients/net.5.bias</td><td>█▇▇▆▆▆▄▄▅▄▃▃▃▂▂▂▂▂▂▂▂▁▂▂▂▂▂▂▁▁▂▁▁▁▁▁▁▁▁▁</td></tr><tr><td>gradients/net.5.weight</td><td>▇█▆█▆▆▆▅▄▅▄▄▃▃▃▂▂▂▂▂▂▂▂▂▂▂▁▁▁▂▁▂▁▁▁▂▁▁▂▁</td></tr><tr><td>gradients/net.8.bias</td><td>███▇▇▆▆▅▅▅▄▄▄▃▃▁▂▁▁▁▁▁▁▂▂▂▂▂▂▁▂▁▁▂▁▁▁▁▁▁</td></tr><tr><td>gradients/net.8.weight</td><td>█▇▇▆▆▅▅▅▅▄▄▃▃▃▂▂▂▂▁▂▂▂▂▂▂▂▂▁▁▁▁▁▂▁▁▁▁▁▁▁</td></tr><tr><td>test_acc</td><td>▁</td></tr><tr><td>test_f1_weighted</td><td>▁</td></tr><tr><td>test_precision</td><td>▁</td></tr><tr><td>test_recall</td><td>▁</td></tr><tr><td>train_loss</td><td>█▇█▆█▅▅▄▄▄▃▃▃▃▂▃▃▃▂▃▂▂▂▂▂▂▂▂▂▂▂▁▂▂▁▁▂▁▁▁</td></tr><tr><td>val_loss</td><td>█▇▆▅▄▃▃▃▃▂▂▁▁▁▁▁▁▁▁▁▁▁▁▁▁▁▁▁▁▁▁▁▁▁▁▁▁▁▁▁</td></tr></table><br/></div><div class=\"wandb-col\"><h3>Run summary:</h3><br/><table class=\"wandb\"><tr><td>epoch</td><td>60</td></tr><tr><td>gradients/net.0.bias</td><td>0.0</td></tr><tr><td>gradients/net.0.weight</td><td>0.00054</td></tr><tr><td>gradients/net.1.bias</td><td>0.00018</td></tr><tr><td>gradients/net.1.weight</td><td>0.00018</td></tr><tr><td>gradients/net.4.bias</td><td>0.0</td></tr><tr><td>gradients/net.4.weight</td><td>0.00165</td></tr><tr><td>gradients/net.5.bias</td><td>0.00026</td></tr><tr><td>gradients/net.5.weight</td><td>0.00036</td></tr><tr><td>gradients/net.8.bias</td><td>0.00014</td></tr><tr><td>gradients/net.8.weight</td><td>0.00159</td></tr><tr><td>test_acc</td><td>0.49231</td></tr><tr><td>test_f1_weighted</td><td>0.52626</td></tr><tr><td>test_precision</td><td>0.60898</td></tr><tr><td>test_recall</td><td>0.49231</td></tr><tr><td>train_loss</td><td>0.0036</td></tr><tr><td>val_loss</td><td>0.00324</td></tr></table><br/></div></div>"
      ],
      "text/plain": [
       "<IPython.core.display.HTML object>"
      ]
     },
     "metadata": {},
     "output_type": "display_data"
    },
    {
     "data": {
      "text/html": [
       " View run <strong style=\"color:#cdcd00\">toasty-lake-39</strong> at: <a href='https://wandb.ai/zerocris13/ch6_classification/runs/g3m6821k' target=\"_blank\">https://wandb.ai/zerocris13/ch6_classification/runs/g3m6821k</a><br> View project at: <a href='https://wandb.ai/zerocris13/ch6_classification' target=\"_blank\">https://wandb.ai/zerocris13/ch6_classification</a><br>Synced 5 W&B file(s), 0 media file(s), 0 artifact file(s) and 0 other file(s)"
      ],
      "text/plain": [
       "<IPython.core.display.HTML object>"
      ]
     },
     "metadata": {},
     "output_type": "display_data"
    },
    {
     "data": {
      "text/html": [
       "Find logs at: <code>.\\wandb\\run-20250601_204257-g3m6821k\\logs</code>"
      ],
      "text/plain": [
       "<IPython.core.display.HTML object>"
      ]
     },
     "metadata": {},
     "output_type": "display_data"
    }
   ],
   "source": [
    "model.load_state_dict(best_model_state)\n",
    "model.eval()\n",
    "with torch.no_grad():\n",
    "    y_test_pred = model(X_test_tensor)\n",
    "    y_pred_labels = y_test_pred.argmax(dim=1).numpy()\n",
    "    \n",
    "acc = accuracy_score(y_test, y_pred_labels)\n",
    "f1_weighted = f1_score(y_test, y_pred_labels, average='weighted')\n",
    "precision = precision_score(y_test, y_pred_labels, average='weighted')\n",
    "recall = recall_score(y_test, y_pred_labels, average='weighted')\n",
    "\n",
    "# Clasificación por clase\n",
    "report = classification_report(y_test, y_pred_labels, digits=4)\n",
    "print(\"\\nClassification Report:\\n\", report)\n",
    "\n",
    "# Matriz de confusión\n",
    "cm = confusion_matrix(y_test, y_pred_labels)\n",
    "plt.figure(figsize=(6, 5))\n",
    "sns.heatmap(cm, annot=True, fmt=\"d\", cmap=\"Blues\", xticklabels=[0,1,2], yticklabels=[0,1,2])\n",
    "plt.title(\"Matriz de Confusión\")\n",
    "plt.xlabel(\"Predicted\")\n",
    "plt.ylabel(\"True\")\n",
    "plt.tight_layout()\n",
    "plt.show()\n",
    "\n",
    "wandb.log({\"test_acc\": acc, \"test_f1_weighted\": f1_weighted, \"test_precision\": precision, \"test_recall\": recall,})\n",
    "wandb.finish()"
   ]
  },
  {
   "cell_type": "markdown",
   "id": "cde94215",
   "metadata": {},
   "source": [
    "Se compararon múltiples configuraciones para la clasificación de mecanismos de bioconcentración, destacando como mejor modelo a `stellar-sweep-1`, que presentó las mejores métricas en *test accuracy*, *F1 ponderado*, *precision* y *recall*. Este modelo utilizó una arquitectura de 2 capas con 64 unidades ocultas y un tiempo de entrenamiento de **17.776 segundos**, lo cual sugiere que una red menos profunda y compacta fue más adecuada para este problema. En contraste, `clean-sweep-2` fue el peor modelo evaluado, con 3 capas y 128 unidades (tiempo de entrenamiento: **14.364 segundos**), lo que podría haber inducido sobreajuste, especialmente considerando el reducido tamaño y desbalance de clases en el dataset.\n",
    "\n",
    "A pesar del uso de técnicas robustas como normalización por lotes (*BatchNorm*), regularización con *Dropout*, *Focal Loss* y *label smoothing*, las métricas globales no fueron altas. Esto evidencia una limitación intrínseca del conjunto de datos. Se recomienda explorar modelos clásicos de *machine learning* (como *Random Forest* o *SVM*), los cuales suelen ser más eficientes con pocos datos, o bien ampliar el dataset e incluir técnicas de aumento sintético.\n",
    "\n",
    "🔗 [Visualizar resultados en W&B](https://api.wandb.ai/links/zerocris13/3uvjgs8i)\n"
   ]
  }
 ],
 "metadata": {
  "kernelspec": {
   "display_name": "cscience",
   "language": "python",
   "name": "python3"
  },
  "language_info": {
   "codemirror_mode": {
    "name": "ipython",
    "version": 3
   },
   "file_extension": ".py",
   "mimetype": "text/x-python",
   "name": "python",
   "nbconvert_exporter": "python",
   "pygments_lexer": "ipython3",
   "version": "3.12.3"
  }
 },
 "nbformat": 4,
 "nbformat_minor": 5
}
