{
 "cells": [
  {
   "cell_type": "markdown",
   "id": "cdfeb34e",
   "metadata": {},
   "source": [
    "## Regresión"
   ]
  },
  {
   "cell_type": "code",
   "execution_count": 68,
   "id": "3d36852b",
   "metadata": {},
   "outputs": [],
   "source": [
    "# Librerias\n",
    "import pandas as pd\n",
    "import numpy as np\n",
    "import matplotlib.pyplot as plt\n",
    "import seaborn as sns\n",
    "import torch\n",
    "from torch import nn\n",
    "from sklearn.preprocessing import StandardScaler\n",
    "from sklearn.model_selection import train_test_split\n",
    "from sklearn.metrics import mean_squared_error, r2_score\n",
    "import wandb"
   ]
  },
  {
   "cell_type": "code",
   "execution_count": null,
   "id": "1548c255",
   "metadata": {},
   "outputs": [
    {
     "name": "stderr",
     "output_type": "stream",
     "text": [
      "\u001b[34m\u001b[1mwandb\u001b[0m: Using wandb-core as the SDK backend.  Please refer to https://wandb.me/wandb-core for more information.\n",
      "\u001b[34m\u001b[1mwandb\u001b[0m: Currently logged in as: \u001b[33mzerocris\u001b[0m (\u001b[33mzerocris13\u001b[0m) to \u001b[32mhttps://api.wandb.ai\u001b[0m. Use \u001b[1m`wandb login --relogin`\u001b[0m to force relogin\n"
     ]
    },
    {
     "data": {
      "text/html": [
       "Waiting for wandb.init()..."
      ],
      "text/plain": [
       "<IPython.core.display.HTML object>"
      ]
     },
     "metadata": {},
     "output_type": "display_data"
    },
    {
     "data": {
      "text/html": [
       "Tracking run with wandb version 0.19.9"
      ],
      "text/plain": [
       "<IPython.core.display.HTML object>"
      ]
     },
     "metadata": {},
     "output_type": "display_data"
    },
    {
     "data": {
      "text/html": [
       "Run data is saved locally in <code>d:\\1. Ingeniería Biomédica\\12 CICLO\\Reconocimiento de Patrones\\Challenges\\6\\wandb\\run-20250601_163214-1fjaaukc</code>"
      ],
      "text/plain": [
       "<IPython.core.display.HTML object>"
      ]
     },
     "metadata": {},
     "output_type": "display_data"
    },
    {
     "data": {
      "text/html": [
       "Syncing run <strong><a href='https://wandb.ai/zerocris13/ch6_regression/runs/1fjaaukc' target=\"_blank\">flowing-night-1</a></strong> to <a href='https://wandb.ai/zerocris13/ch6_regression' target=\"_blank\">Weights & Biases</a> (<a href='https://wandb.me/developer-guide' target=\"_blank\">docs</a>)<br>"
      ],
      "text/plain": [
       "<IPython.core.display.HTML object>"
      ]
     },
     "metadata": {},
     "output_type": "display_data"
    },
    {
     "data": {
      "text/html": [
       " View project at <a href='https://wandb.ai/zerocris13/ch6_regression' target=\"_blank\">https://wandb.ai/zerocris13/ch6_regression</a>"
      ],
      "text/plain": [
       "<IPython.core.display.HTML object>"
      ]
     },
     "metadata": {},
     "output_type": "display_data"
    },
    {
     "data": {
      "text/html": [
       " View run at <a href='https://wandb.ai/zerocris13/ch6_regression/runs/1fjaaukc' target=\"_blank\">https://wandb.ai/zerocris13/ch6_regression/runs/1fjaaukc</a>"
      ],
      "text/plain": [
       "<IPython.core.display.HTML object>"
      ]
     },
     "metadata": {},
     "output_type": "display_data"
    },
    {
     "data": {
      "text/html": [
       "<button onClick=\"this.nextSibling.style.display='block';this.style.display='none';\">Display W&B run</button><iframe src='https://wandb.ai/zerocris13/ch6_regression/runs/1fjaaukc?jupyter=true' style='border:none;width:100%;height:420px;display:none;'></iframe>"
      ],
      "text/plain": [
       "<wandb.sdk.wandb_run.Run at 0x28551eba7b0>"
      ]
     },
     "execution_count": 35,
     "metadata": {},
     "output_type": "execute_result"
    }
   ],
   "source": [
    "wandb.login()"
   ]
  },
  {
   "cell_type": "code",
   "execution_count": 7,
   "id": "293bbf6c",
   "metadata": {},
   "outputs": [
    {
     "name": "stdout",
     "output_type": "stream",
     "text": [
      "              nHM      piPC09         PCD        X2Av       MLOGP        ON1V  \\\n",
      "count  779.000000  779.000000  779.000000  779.000000  779.000000  779.000000   \n",
      "mean     1.754814    3.467616    1.550822    0.236881    3.201746    1.510295   \n",
      "std      1.985866    2.983778    0.958708    0.149319    1.595702    0.834753   \n",
      "min      0.000000    0.000000    0.000000    0.090000   -1.960000    0.080000   \n",
      "25%      0.000000    0.000000    1.210000    0.170000    2.190000    0.910000   \n",
      "50%      1.000000    4.263000    1.400000    0.200000    3.130000    1.270000   \n",
      "75%      3.000000    6.250000    2.285000    0.240000    4.235000    2.020000   \n",
      "max     12.000000    9.316000    5.900000    2.230000    8.320000    7.190000   \n",
      "\n",
      "            N-072    B02[C-N]    F04[C-O]       Class      logBCF  \n",
      "count  779.000000  779.000000  779.000000  779.000000  779.000000  \n",
      "mean     0.186136    0.423620    3.585366    1.736842    2.062773  \n",
      "std      0.501937    0.494449    4.430421    0.921782    1.351290  \n",
      "min      0.000000    0.000000    0.000000    1.000000   -1.700000  \n",
      "25%      0.000000    0.000000    0.000000    1.000000    0.985000  \n",
      "50%      0.000000    0.000000    2.000000    1.000000    2.030000  \n",
      "75%      0.000000    1.000000    6.000000    3.000000    2.950000  \n",
      "max      3.000000    1.000000   25.000000    3.000000    6.060000  \n"
     ]
    }
   ],
   "source": [
    "# Dataset\n",
    "df = pd.read_csv(\"Grisoni_et_al_2016_EnvInt88.csv\") \n",
    "print(df.describe())"
   ]
  },
  {
   "cell_type": "code",
   "execution_count": 9,
   "id": "e75c65a4",
   "metadata": {},
   "outputs": [
    {
     "data": {
      "image/png": "[encoded data removed]",
      "text/plain": [
       "<Figure size 600x400 with 1 Axes>"
      ]
     },
     "metadata": {},
     "output_type": "display_data"
    }
   ],
   "source": [
    "# Target\n",
    "plt.figure(figsize=(6, 4))\n",
    "sns.histplot(df[\"logBCF\"], kde=True, bins=30, color=\"skyblue\")\n",
    "plt.title(\"Distribución de logBCF\")\n",
    "plt.xlabel(\"logBCF\")\n",
    "plt.tight_layout()\n",
    "plt.show()"
   ]
  },
  {
   "cell_type": "code",
   "execution_count": 69,
   "id": "d375f768",
   "metadata": {},
   "outputs": [],
   "source": [
    "# Variables\n",
    "# Normalizamos logBCF a [0, 1]\n",
    "logBCF_min = df[\"logBCF\"].min()\n",
    "logBCF_max = df[\"logBCF\"].max()\n",
    "df[\"logBCF_norm\"] = (df[\"logBCF\"] - logBCF_min) / (logBCF_max - logBCF_min)\n",
    "\n",
    "X = df.drop(columns=[\"CAS\", \"SMILES\", \"Set\", \"Class\", \"logBCF\", \"logBCF_norm\"])\n",
    "y = df[\"logBCF_norm\"]\n",
    "\n",
    "scaler = StandardScaler()\n",
    "X_scaled = scaler.fit_transform(X)\n",
    "\n",
    "X_trainval = X_scaled[df[\"Set\"] == \"Train\"]\n",
    "y_trainval = y[df[\"Set\"] == \"Train\"].values\n",
    "X_test = X_scaled[df[\"Set\"] == \"Test\"]\n",
    "y_test_true = df[df[\"Set\"] == \"Test\"][\"logBCF\"].values\n",
    "\n",
    "X_train, X_val, y_train, y_val = train_test_split(\n",
    "    X_trainval, y_trainval, test_size=0.2, random_state=13\n",
    ")"
   ]
  },
  {
   "cell_type": "code",
   "execution_count": 83,
   "id": "9aad41c2",
   "metadata": {},
   "outputs": [],
   "source": [
    "# Red neuronal\n",
    "class BCFRegressor(nn.Module):\n",
    "    def __init__(self, input_dim):\n",
    "        super().__init__()\n",
    "        self.model = nn.Sequential(\n",
    "            nn.Linear(input_dim, 128),\n",
    "            nn.BatchNorm1d(128),\n",
    "            nn.SiLU(),\n",
    "            nn.Dropout(0.3),\n",
    "\n",
    "            nn.Linear(128, 64),\n",
    "            nn.BatchNorm1d(64),\n",
    "            nn.SiLU(),\n",
    "            nn.Dropout(0.3),\n",
    "\n",
    "            nn.Linear(64, 32),\n",
    "            nn.BatchNorm1d(32),\n",
    "            nn.SiLU(),\n",
    "\n",
    "            nn.Linear(32, 1),\n",
    "            nn.Sigmoid()\n",
    "        )\n",
    "\n",
    "    def forward(self, x):\n",
    "        return self.model(x)\n"
   ]
  },
  {
   "cell_type": "code",
   "execution_count": 86,
   "id": "c603df05",
   "metadata": {},
   "outputs": [
    {
     "data": {
      "text/html": [
       "Tracking run with wandb version 0.19.9"
      ],
      "text/plain": [
       "<IPython.core.display.HTML object>"
      ]
     },
     "metadata": {},
     "output_type": "display_data"
    },
    {
     "data": {
      "text/html": [
       "Run data is saved locally in <code>d:\\1. Ingeniería Biomédica\\12 CICLO\\Reconocimiento de Patrones\\Challenges\\6\\wandb\\run-20250601_181545-7cq7wipx</code>"
      ],
      "text/plain": [
       "<IPython.core.display.HTML object>"
      ]
     },
     "metadata": {},
     "output_type": "display_data"
    },
    {
     "data": {
      "text/html": [
       "Syncing run <strong><a href='https://wandb.ai/zerocris13/ch6_regression/runs/7cq7wipx' target=\"_blank\">fearless-sun-16</a></strong> to <a href='https://wandb.ai/zerocris13/ch6_regression' target=\"_blank\">Weights & Biases</a> (<a href='https://wandb.me/developer-guide' target=\"_blank\">docs</a>)<br>"
      ],
      "text/plain": [
       "<IPython.core.display.HTML object>"
      ]
     },
     "metadata": {},
     "output_type": "display_data"
    },
    {
     "data": {
      "text/html": [
       " View project at <a href='https://wandb.ai/zerocris13/ch6_regression' target=\"_blank\">https://wandb.ai/zerocris13/ch6_regression</a>"
      ],
      "text/plain": [
       "<IPython.core.display.HTML object>"
      ]
     },
     "metadata": {},
     "output_type": "display_data"
    },
    {
     "data": {
      "text/html": [
       " View run at <a href='https://wandb.ai/zerocris13/ch6_regression/runs/7cq7wipx' target=\"_blank\">https://wandb.ai/zerocris13/ch6_regression/runs/7cq7wipx</a>"
      ],
      "text/plain": [
       "<IPython.core.display.HTML object>"
      ]
     },
     "metadata": {},
     "output_type": "display_data"
    },
    {
     "name": "stdout",
     "output_type": "stream",
     "text": [
      "Epoch 50, Train Loss: 0.007941, Val Loss: 0.008793\n",
      "Epoch 100, Train Loss: 0.007312, Val Loss: 0.008957\n",
      "Epoch 150, Train Loss: 0.006412, Val Loss: 0.008654\n",
      "Epoch 200, Train Loss: 0.006175, Val Loss: 0.008515\n",
      "Epoch 250, Train Loss: 0.005947, Val Loss: 0.009141\n",
      "Epoch 300, Train Loss: 0.005400, Val Loss: 0.008847\n",
      "Epoch 350, Train Loss: 0.005493, Val Loss: 0.009017\n",
      "Epoch 400, Train Loss: 0.005801, Val Loss: 0.008616\n",
      "Epoch 450, Train Loss: 0.005576, Val Loss: 0.008362\n",
      "Epoch 500, Train Loss: 0.005685, Val Loss: 0.008848\n",
      "Epoch 550, Train Loss: 0.006127, Val Loss: 0.009230\n",
      "Epoch 600, Train Loss: 0.005710, Val Loss: 0.009129\n",
      "Epoch 650, Train Loss: 0.006084, Val Loss: 0.008641\n",
      "Early stopping at epoch 657\n"
     ]
    }
   ],
   "source": [
    "X_train_tensor = torch.tensor(X_train, dtype=torch.float32)\n",
    "y_train_tensor = torch.tensor(y_train.reshape(-1, 1), dtype=torch.float32)\n",
    "X_val_tensor = torch.tensor(X_val, dtype=torch.float32)\n",
    "y_val_tensor = torch.tensor(y_val.reshape(-1, 1), dtype=torch.float32)\n",
    "X_test_tensor = torch.tensor(X_test, dtype=torch.float32)\n",
    "\n",
    "model = BCFRegressor(X_train.shape[1])\n",
    "criterion = nn.MSELoss()\n",
    "optimizer = torch.optim.Adam(model.parameters(), lr=0.001, weight_decay=1e-3)\n",
    "\n",
    "best_val_loss = float(\"inf\")\n",
    "patience = 200\n",
    "counter = 0\n",
    "epochs = 1000\n",
    "\n",
    "wandb.init(project=\"ch6_regression\", entity=\"zerocris13\")\n",
    "for epoch in range(epochs):\n",
    "    model.train()\n",
    "    optimizer.zero_grad()\n",
    "    y_pred_train = model(X_train_tensor)\n",
    "    loss_train = criterion(y_pred_train, y_train_tensor)\n",
    "    loss_train.backward()\n",
    "    optimizer.step()\n",
    "\n",
    "    model.eval()\n",
    "    with torch.no_grad():\n",
    "        y_pred_val = model(X_val_tensor)\n",
    "        loss_val = criterion(y_pred_val, y_val_tensor)\n",
    "\n",
    "    wandb.log({\n",
    "        \"epoch\": epoch + 1,\n",
    "        \"train_loss\": loss_train.item(),\n",
    "        \"val_loss\": loss_val.item()\n",
    "    })\n",
    "\n",
    "    if loss_val.item() < best_val_loss:\n",
    "        best_val_loss = loss_val.item()\n",
    "        best_model_state = model.state_dict()\n",
    "        counter = 0\n",
    "    else:\n",
    "        counter += 1\n",
    "        if counter >= patience:\n",
    "            print(f\"Early stopping at epoch {epoch+1}\")\n",
    "            break\n",
    "\n",
    "    if (epoch + 1) % 50 == 0:\n",
    "        print(f\"Epoch {epoch+1}, Train Loss: {loss_train.item():.6f}, Val Loss: {loss_val.item():.6f}\")\n"
   ]
  },
  {
   "cell_type": "code",
   "execution_count": 87,
   "id": "a24f12a1",
   "metadata": {},
   "outputs": [
    {
     "name": "stderr",
     "output_type": "stream",
     "text": [
      "\u001b[34m\u001b[1mwandb\u001b[0m: \u001b[32m\u001b[41mERROR\u001b[0m The nbformat package was not found. It is required to save notebook history.\n"
     ]
    },
    {
     "name": "stdout",
     "output_type": "stream",
     "text": [
      "MSE (logBCF): 0.4763\n",
      "R² Score (logBCF): 0.7549\n"
     ]
    },
    {
     "data": {
      "text/html": [],
      "text/plain": [
       "<IPython.core.display.HTML object>"
      ]
     },
     "metadata": {},
     "output_type": "display_data"
    },
    {
     "data": {
      "text/html": [
       "<br>    <style><br>        .wandb-row {<br>            display: flex;<br>            flex-direction: row;<br>            flex-wrap: wrap;<br>            justify-content: flex-start;<br>            width: 100%;<br>        }<br>        .wandb-col {<br>            display: flex;<br>            flex-direction: column;<br>            flex-basis: 100%;<br>            flex: 1;<br>            padding: 10px;<br>        }<br>    </style><br><div class=\"wandb-row\"><div class=\"wandb-col\"><h3>Run history:</h3><br/><table class=\"wandb\"><tr><td>epoch</td><td>▁▁▁▁▁▂▂▂▃▃▃▃▃▃▃▄▄▄▄▅▅▅▅▅▅▆▆▆▆▆▆▆▆▆▇▇████</td></tr><tr><td>test_mse</td><td>▁</td></tr><tr><td>test_r2</td><td>▁</td></tr><tr><td>train_loss</td><td>▇█▇▅▄▃▃▄▃▃▂▃▂▂▂▁▃▂▂▂▂▁▂▃▁▂▂▁▂▃▂▁▂▂▂▂▂▂▂▂</td></tr><tr><td>val_loss</td><td>█▃▃▃▂▂▂▂▂▁▂▃▃▂▁▃▂▃▃▄▃▄▄▃▁▂▂▁▁▁▃▄▅▄▄▃▄▃▂▂</td></tr></table><br/></div><div class=\"wandb-col\"><h3>Run summary:</h3><br/><table class=\"wandb\"><tr><td>epoch</td><td>657</td></tr><tr><td>test_mse</td><td>0.47631</td></tr><tr><td>test_r2</td><td>0.7549</td></tr><tr><td>train_loss</td><td>0.00599</td></tr><tr><td>val_loss</td><td>0.00916</td></tr></table><br/></div></div>"
      ],
      "text/plain": [
       "<IPython.core.display.HTML object>"
      ]
     },
     "metadata": {},
     "output_type": "display_data"
    },
    {
     "data": {
      "text/html": [
       " View run <strong style=\"color:#cdcd00\">fearless-sun-16</strong> at: <a href='https://wandb.ai/zerocris13/ch6_regression/runs/7cq7wipx' target=\"_blank\">https://wandb.ai/zerocris13/ch6_regression/runs/7cq7wipx</a><br> View project at: <a href='https://wandb.ai/zerocris13/ch6_regression' target=\"_blank\">https://wandb.ai/zerocris13/ch6_regression</a><br>Synced 5 W&B file(s), 0 media file(s), 0 artifact file(s) and 0 other file(s)"
      ],
      "text/plain": [
       "<IPython.core.display.HTML object>"
      ]
     },
     "metadata": {},
     "output_type": "display_data"
    },
    {
     "data": {
      "text/html": [
       "Find logs at: <code>.\\wandb\\run-20250601_181545-7cq7wipx\\logs</code>"
      ],
      "text/plain": [
       "<IPython.core.display.HTML object>"
      ]
     },
     "metadata": {},
     "output_type": "display_data"
    }
   ],
   "source": [
    "model.load_state_dict(best_model_state)\n",
    "model.eval()\n",
    "with torch.no_grad():\n",
    "    y_pred_norm = model(X_test_tensor).numpy().flatten()\n",
    "\n",
    "y_pred_logBCF = y_pred_norm * (logBCF_max - logBCF_min) + logBCF_min\n",
    "mse = mean_squared_error(y_test_true, y_pred_logBCF)\n",
    "r2 = r2_score(y_test_true, y_pred_logBCF)\n",
    "\n",
    "print(f\"MSE (logBCF): {mse:.4f}\")\n",
    "print(f\"R² Score (logBCF): {r2:.4f}\")\n",
    "wandb.log({\"test_mse\": mse, \"test_r2\": r2})\n",
    "wandb.finish()"
   ]
  },
  {
   "cell_type": "markdown",
   "id": "0ab803cc",
   "metadata": {},
   "source": [
    "Se realizó un barrido de hiperparámetros en **Weights & Biases (W&B)** variando los siguientes parámetros: cantidad de capas (`layers`), tamaño de las capas ocultas (`hidden_dim`). Se evaluaron los modelos comparando el tiempo de entrenamiento (`train_time_sec`), el error cuadrático medio en test (`test_mse`) y el coeficiente de determinación (`test_r2`). \n",
    "\n",
    "Al comparar los resultados del sweep, se observa que el modelo **floral-sweep-2** (3 capas, 64 unidades ocultas, activación `silu`) obtuvo el mejor desempeño, con un `test_mse` de **0.566** y un `test_r2` de **0.7088**. En contraste, el peor desempeño fue alcanzado por **desert-sweep-4**, que usó la misma cantidad de capas (3) pero con 128 unidades ocultas, obteniendo un `test_mse` de **0.731** y un `test_r2` de **0.6238**. \n",
    "\n",
    "Esto sugiere que un mayor número de parámetros (como en el modelo con 128 unidades ocultas) no garantiza una mejor generalización. Es probable que este modelo haya sobreajustado los datos de entrenamiento (overfitting), lo cual se refleja en un mayor error en el conjunto de prueba. \n",
    "\n",
    "Además, es importante señalar que cuando se trabaja con pocos datos, es preferible optar por arquitecturas más simples para evitar el sobreajuste y obtener una mejor capacidad de generalización.\n",
    "\n",
    "🔗 [Visualizar resultados en W&B](https://api.wandb.ai/links/zerocris13/uu5249ql)\n"
   ]
  }
 ],
 "metadata": {
  "kernelspec": {
   "display_name": "cscience",
   "language": "python",
   "name": "python3"
  },
  "language_info": {
   "codemirror_mode": {
    "name": "ipython",
    "version": 3
   },
   "file_extension": ".py",
   "mimetype": "text/x-python",
   "name": "python",
   "nbconvert_exporter": "python",
   "pygments_lexer": "ipython3",
   "version": "3.12.3"
  }
 },
 "nbformat": 4,
 "nbformat_minor": 5
}
